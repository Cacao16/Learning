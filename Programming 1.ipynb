{
 "cells": [
  {
   "cell_type": "code",
   "execution_count": 2,
   "metadata": {},
   "outputs": [
    {
     "name": "stdout",
     "output_type": "stream",
     "text": [
      "2\n"
     ]
    }
   ],
   "source": [
    "sequence = 2\n",
    "print(sequence)"
   ]
  },
  {
   "cell_type": "code",
   "execution_count": 7,
   "metadata": {},
   "outputs": [
    {
     "name": "stdout",
     "output_type": "stream",
     "text": [
      "2\n",
      "-4\n",
      "8\n",
      "-16\n",
      "32\n",
      "-64\n",
      "128\n",
      "-256\n",
      "512\n",
      "-1024\n",
      "2048\n",
      "-4096\n",
      "8192\n",
      "-16384\n",
      "32768\n",
      "-65536\n",
      "131072\n",
      "-262144\n",
      "524288\n",
      "-1048576\n",
      "2097152\n",
      "-4194304\n",
      "8388608\n",
      "-16777216\n",
      "33554432\n",
      "-67108864\n",
      "134217728\n",
      "-268435456\n",
      "536870912\n",
      "-1073741824\n",
      "2147483648\n",
      "-4294967296\n",
      "8589934592\n",
      "-17179869184\n",
      "34359738368\n",
      "-68719476736\n",
      "137438953472\n",
      "-274877906944\n",
      "549755813888\n",
      "-1099511627776\n",
      "2199023255552\n",
      "-4398046511104\n",
      "8796093022208\n",
      "-17592186044416\n",
      "35184372088832\n",
      "-70368744177664\n",
      "140737488355328\n",
      "-281474976710656\n",
      "562949953421312\n",
      "-1125899906842624\n",
      "the final count is 28\n"
     ]
    }
   ],
   "source": [
    "sequence = 2\n",
    "count = 0\n",
    "for x in range(50):\n",
    "  if sequence < 100: \n",
    "    count = count + 1\n",
    "  if x ==0:\n",
    "    print(sequence)\n",
    "  else:\n",
    "    sequence = sequence * -2\n",
    "    print(sequence)\n",
    "\n",
    "print(f\"the final count is {count}\")"
   ]
  }
 ],
 "metadata": {
  "kernelspec": {
   "display_name": "Python 3",
   "language": "python",
   "name": "python3"
  },
  "language_info": {
   "codemirror_mode": {
    "name": "ipython",
    "version": 3
   },
   "file_extension": ".py",
   "mimetype": "text/x-python",
   "name": "python",
   "nbconvert_exporter": "python",
   "pygments_lexer": "ipython3",
   "version": "3.12.4"
  }
 },
 "nbformat": 4,
 "nbformat_minor": 2
}
